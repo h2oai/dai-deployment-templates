{
 "cells": [
  {
   "cell_type": "code",
   "execution_count": null,
   "metadata": {},
   "outputs": [],
   "source": [
    "import boto3\n",
    "import sagemaker"
   ]
  },
  {
   "cell_type": "code",
   "execution_count": null,
   "metadata": {},
   "outputs": [],
   "source": [
    "from sagemaker import get_execution_role\n",
    "\n",
    "sagemaker_role = get_execution_role()\n",
    "sagemaker_session = sagemaker.Session()\n",
    "sm_client = sagemaker_session.boto_session.client('sagemaker')\n"
   ]
  },
  {
   "cell_type": "code",
   "execution_count": null,
   "metadata": {},
   "outputs": [],
   "source": [
    "client = boto3.client('sagemaker-runtime')\n",
    "\n",
    "endpoint_name = \"titanic-driverlessai-mojo-1-6-2\""
   ]
  },
  {
   "cell_type": "code",
   "execution_count": null,
   "metadata": {},
   "outputs": [],
   "source": [
    "ModelName='Driverlessai-MOJO'\n",
    "\n",
    "#The model can be downloaded from the driverlessAI application. Unzip the \n",
    "# file and create a tar.gz. This is to help you package the license file \n",
    "# along with the MOJO. This license can also be added as an environment variable. \n",
    "# See below.\n",
    "# Note: The license requirement will be removed and be billed through Sagemaker\n",
    "ModelLocationInS3 = 's3://yourbucketname/mojo.tar.gz'\n",
    "\n",
    "response = sm_client.create_model(\n",
    "    ModelName=ModelName,\n",
    "    PrimaryContainer={\n",
    "            'ContainerHostname': 'dai162-rest',\n",
    "            'Image': '524466471676.dkr.ecr.us-east-1.amazonaws.com/driverlessaidemo:latest',\n",
    "            'ModelDataUrl': ModelLocationInS3,\n",
    "            'Environment': {\n",
    "                'DRIVERLESS_AI_LICENSE_KEY': 'gNpKIUSXh01CcdRhmHMtmXOtn04UJnxp7iNUt70XxqpMdF2fMgVhDPx3gjObzHqo1tv8kcPBqsi-NJQyWs4Vr92FZv-sq7u2HPzX9M2dPPYaBrlWbTxWSrUmnUmDPQClorojsVmsvzT4KIZwGmmyNZADrxaN5b-x4_nfs8WiZnJUxR5BtsC3WC0BEn5IFVeyj7Dru1xI0SltYmVBVlhjH-Jho2kvMzmqaMi77_gjc8NSqdJyaqWFcuWdQB2Xsj3c9hgAty9SVbE1OcEeJrvutE30zHr6NzEvppkHifUIbG3LUtTeMojYeFwbNc2OJDcBQbjdp4F_Ugu5C7yt1Wd1YmxpY2Vuc2VfdmVyc2lvbjoxCnNlcmlhbF9udW1iZXI6MjkKbGljZW5zZWVfb3JnYW5pemF0aW9uOkgyTy5haQpsaWNlbnNlZV9lbWFpbDp0b21rQGgyby5haQpsaWNlbnNlZV91c2VyX2lkOjI5CmlzX2gyb19pbnRlcm5hbF91c2U6dHJ1ZQpjcmVhdGVkX2J5X2VtYWlsOnRvbWtAaDJvLmFpCmNyZWF0aW9uX2RhdGU6MjAxOC8xMS8yNgpwcm9kdWN0OkRyaXZlcmxlc3NBSQpsaWNlbnNlX3R5cGU6ZGV2ZWxvcGVyCmV4cGlyYXRpb25fZGF0ZToyMDE5LzA3LzAxCg=='\n",
    "            }\n",
    "    },\n",
    "    ExecutionRoleArn='arn:aws:iam::524466471676:role/service-role/AmazonSageMaker-ExecutionRole-20180909T081878')\n",
    "print(response['ModelArn'])"
   ]
  },
  {
   "cell_type": "code",
   "execution_count": null,
   "metadata": {},
   "outputs": [],
   "source": [
    "endpoint_config_name = 'DriverlessAIEndpointConfig'\n",
    "print(endpoint_config_name)\n",
    "create_endpoint_config_response = sm_client.create_endpoint_config(\n",
    "    EndpointConfigName = endpoint_config_name,\n",
    "    ProductionVariants=[{\n",
    "        'InstanceType':'ml.m4.xlarge',\n",
    "        'InitialInstanceCount':1,\n",
    "        'ModelName':ModelName,\n",
    "        'VariantName':'AllTraffic'}])\n",
    "\n",
    "print(\"Endpoint Config Arn: \" + create_endpoint_config_response['EndpointConfigArn'])\n"
   ]
  },
  {
   "cell_type": "code",
   "execution_count": null,
   "metadata": {},
   "outputs": [],
   "source": [
    "endpoint_name = 'DriverlessAIEndpoint'\n",
    "print(endpoint_name)\n",
    "create_endpoint_response = sm_client.create_endpoint(\n",
    "    EndpointName=endpoint_name,\n",
    "    EndpointConfigName=endpoint_config_name)\n",
    "print(create_endpoint_response['EndpointArn'])\n",
    "\n",
    "resp = sm_client.describe_endpoint(EndpointName=endpoint_name)\n",
    "status = resp['EndpointStatus']\n",
    "print(\"Status: \" + status)\n",
    "\n",
    "try:\n",
    "    sm_client.get_waiter('endpoint_in_service').wait(EndpointName=endpoint_name)\n",
    "finally:\n",
    "    resp = sm_client.describe_endpoint(EndpointName=endpoint_name)\n",
    "    status = resp['EndpointStatus']\n",
    "    print(\"Arn: \" + resp['EndpointArn'])\n",
    "    print(\"Create endpoint ended with status: \" + status)\n",
    "\n",
    "    if status != 'InService':\n",
    "        message = sm_client.describe_endpoint(EndpointName=endpoint_name)['FailureReason']\n",
    "        print('Training failed with the following error: {}'.format(message))\n",
    "        raise Exception('Endpoint creation did not succeed')"
   ]
  },
  {
   "cell_type": "code",
   "execution_count": null,
   "metadata": {},
   "outputs": [],
   "source": [
    "content_type = \"application/octet-stream\"\n",
    "\n",
    "payload = \"\"\"\n",
    "{\n",
    "    \"pclass\":\"2.0\",\n",
    "    \"sex\":\"male\",\n",
    "    \"age\":\"32\",\n",
    "    \"sibsp\":\"4\",\n",
    "    \"parch\":\"2\",\n",
    "    \"ticket\":\"113501\",\n",
    "    \"fare\":\"7.5\",\n",
    "    \"cabin\":\"Q\",\n",
    "    \"embarked\":\"10\",\n",
    "    \"boat\":\"nan\",\n",
    "    \"body\":\"1\",\n",
    "    \"home_dest\":\"AB\"\n",
    "}\n",
    "\"\"\"\n",
    "\n",
    "response = client.invoke_endpoint(\n",
    "    EndpointName=endpoint_name, \n",
    "    ContentType=content_type,\n",
    "    Body=payload\n",
    "    )\n",
    "\n",
    "print(response)\n",
    "\n",
    "response_body = response['Body']\n",
    "print(response_body.read().decode('utf-8'))\n"
   ]
  },
  {
   "cell_type": "code",
   "execution_count": null,
   "metadata": {},
   "outputs": [],
   "source": []
  }
 ],
 "metadata": {
  "kernelspec": {
   "display_name": "conda_python3",
   "language": "python",
   "name": "conda_python3"
  },
  "language_info": {
   "codemirror_mode": {
    "name": "ipython",
    "version": 3
   },
   "file_extension": ".py",
   "mimetype": "text/x-python",
   "name": "python",
   "nbconvert_exporter": "python",
   "pygments_lexer": "ipython3",
   "version": "3.6.5"
  }
 },
 "nbformat": 4,
 "nbformat_minor": 2
}
